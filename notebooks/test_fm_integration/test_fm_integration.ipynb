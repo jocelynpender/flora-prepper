{
 "cells": [
  {
   "cell_type": "markdown",
   "source": [
    "# Test integration of Flora of Manitoba data into the model (performance testing)\n",
    "## Import requisite code"
   ],
   "metadata": {
    "collapsed": false
   }
  },
  {
   "cell_type": "code",
   "execution_count": 1,
   "outputs": [
    {
     "name": "stderr",
     "text": [
      "[nltk_data] Downloading package wordnet to\n",
      "[nltk_data]     /Users/jocelynpender/nltk_data...\n",
      "[nltk_data]   Package wordnet is already up-to-date!\n"
     ],
     "output_type": "stream"
    }
   ],
   "source": [
    "\n",
    "%load_ext autoreload\n",
    "%autoreload 2\n",
    "\n",
    "import os\n",
    "import sys\n",
    "import numpy as np\n",
    "import pandas as pd\n",
    "\n",
    "# Import custom modelling code\n",
    "module_path = os.path.abspath(os.path.join('../../'))\n",
    "if module_path not in sys.path:\n",
    "    sys.path.append(module_path)\n",
    "\n",
    "import make_dataset\n",
    "import make_features\n",
    "import make_model\n",
    "import make_predict\n",
    "# from src.models.run_model import *\n",
    "# from visualization.visualize import *\n",
    "# import features as features\n",
    "from sklearn import metrics\n"
   ],
   "metadata": {
    "collapsed": false,
    "pycharm": {
     "name": "#%%\n",
     "is_executing": false
    }
   }
  },
  {
   "cell_type": "markdown",
   "source": [
    "## Load data in two different ways\n",
    "### With FM data"
   ],
   "metadata": {
    "collapsed": false,
    "pycharm": {
     "name": "#%% md\n"
    }
   }
  },
  {
   "cell_type": "code",
   "execution_count": 2,
   "outputs": [],
   "source": [
    "flora_data_frame = make_dataset.main(\"../../data/processed/test_fm_integration/flora_data_frame_fm_nb.csv\", \n",
    "                                     fna_filepath=\"../../data/raw/fna_with_habitat.csv\", \n",
    "                                     bc_filepath=\"../../data/raw/eflora_bc.csv\", \n",
    "                                     budds_file_path=\"../../data/raw/buddsfloraofcana00otta_djvu.xml\", \n",
    "                                     fm_file_path=\"../../data/raw/fm.csv\")"
   ],
   "metadata": {
    "collapsed": false,
    "pycharm": {
     "name": "#%%\n",
     "is_executing": false
    }
   }
  },
  {
   "cell_type": "code",
   "execution_count": 3,
   "outputs": [
    {
     "name": "stderr",
     "text": [
      "[nltk_data] Downloading package stopwords to\n",
      "[nltk_data]     /Users/jocelynpender/nltk_data...\n",
      "[nltk_data]   Package stopwords is already up-to-date!\n"
     ],
     "output_type": "stream"
    }
   ],
   "source": [
    "custom_vec, dtm_text_counts = make_features.main(train_file_path=\"../../data/processed/test_fm_integration/flora_data_frame_fm_nb.csv\", \n",
    "                                                 features_save_path=\"../../models/test_fm_integration/with_fm/\", \n",
    "                                                 custom_stop_words_path=\"../../models/stop_words.txt\",\n",
    "                                                 reclassify_keys=\"no\", reclassify_habitat=\"no\")"
   ],
   "metadata": {
    "collapsed": false,
    "pycharm": {
     "name": "#%%\n",
     "is_executing": false
    }
   }
  },
  {
   "cell_type": "code",
   "execution_count": 4,
   "outputs": [
    {
     "name": "stdout",
     "text": [
      "MultinomialNB Accuracy: 0.9842182693593687\n",
      "                      precision    recall  f1-score   support\n",
      "\n",
      "        distribution       0.99      1.00      0.99      1264\n",
      "             habitat       0.99      1.00      0.99      1457\n",
      "                 key       0.97      0.96      0.97      1232\n",
      "          morphology       0.96      0.98      0.97      1349\n",
      "taxon_identification       1.00      0.98      0.99      2175\n",
      "\n",
      "            accuracy                           0.98      7477\n",
      "           macro avg       0.98      0.98      0.98      7477\n",
      "        weighted avg       0.98      0.98      0.98      7477\n",
      "\n"
     ],
     "output_type": "stream"
    }
   ],
   "source": [
    "clf, dtm_y_test, dtm_predictions = make_model.main(\"../../data/processed/test_fm_integration/flora_data_frame_fm_nb.csv\", \n",
    "                \"../../models/test_fm_integration/with_fm/dtm_text_counts\",\n",
    "                \"../../models/test_fm_integration/with_fm/\")\n"
   ],
   "metadata": {
    "collapsed": false,
    "pycharm": {
     "name": "#%%\n",
     "is_executing": false
    }
   }
  },
  {
   "cell_type": "markdown",
   "source": [
    "### Without FM data\n"
   ],
   "metadata": {
    "collapsed": false,
    "pycharm": {
     "name": "#%% md\n"
    }
   }
  },
  {
   "cell_type": "code",
   "execution_count": 5,
   "outputs": [],
   "source": [
    "flora_data_frame = make_dataset.main(\"../../data/processed/test_fm_integration/flora_data_frame_no_fm_nb.csv\", \n",
    "                                     fna_filepath=\"../../data/raw/fna_with_habitat.csv\", \n",
    "                                     bc_filepath=\"../../data/raw/eflora_bc.csv\", \n",
    "                                     budds_file_path=\"../../data/raw/buddsfloraofcana00otta_djvu.xml\")"
   ],
   "metadata": {
    "collapsed": false,
    "pycharm": {
     "name": "#%%\n",
     "is_executing": false
    }
   }
  },
  {
   "cell_type": "code",
   "execution_count": 6,
   "outputs": [
    {
     "name": "stderr",
     "text": [
      "[nltk_data] Downloading package stopwords to\n",
      "[nltk_data]     /Users/jocelynpender/nltk_data...\n",
      "[nltk_data]   Package stopwords is already up-to-date!\n"
     ],
     "output_type": "stream"
    }
   ],
   "source": [
    "custom_vec, dtm_text_counts = make_features.main(train_file_path=\"../../data/processed/test_fm_integration/flora_data_frame_no_fm_nb.csv\", \n",
    "                                                 features_save_path=\"../../models/test_fm_integration/without_fm/\", \n",
    "                                                 custom_stop_words_path=\"../../models/stop_words.txt\",\n",
    "                                                 reclassify_keys=\"no\", reclassify_habitat=\"no\")"
   ],
   "metadata": {
    "collapsed": false,
    "pycharm": {
     "name": "#%%\n",
     "is_executing": false
    }
   }
  },
  {
   "cell_type": "code",
   "execution_count": 7,
   "outputs": [
    {
     "name": "stdout",
     "text": [
      "MultinomialNB Accuracy: 0.9787267820288935\n",
      "                      precision    recall  f1-score   support\n",
      "\n",
      "        distribution       0.99      0.99      0.99       940\n",
      "             habitat       0.97      1.00      0.98      1510\n",
      "                 key       0.98      0.95      0.96      1100\n",
      "          morphology       0.96      0.98      0.97      1347\n",
      "taxon_identification       0.99      0.97      0.98      1402\n",
      "\n",
      "            accuracy                           0.98      6299\n",
      "           macro avg       0.98      0.98      0.98      6299\n",
      "        weighted avg       0.98      0.98      0.98      6299\n",
      "\n"
     ],
     "output_type": "stream"
    }
   ],
   "source": [
    "clf, dtm_y_test, dtm_predictions = make_model.main(\"../../data/processed/test_fm_integration/flora_data_frame_no_fm_nb.csv\", \n",
    "                \"../../models/test_fm_integration/without_fm/dtm_text_counts\",\n",
    "                \"../../models/test_fm_integration/without_fm/\")"
   ],
   "metadata": {
    "collapsed": false,
    "pycharm": {
     "name": "#%%\n",
     "is_executing": false
    }
   }
  },
  {
   "cell_type": "code",
   "execution_count": 5,
   "outputs": [
    {
     "name": "stdout",
     "text": [
      "MultinomialNB Accuracy: 0.9789414834140887\n"
     ],
     "output_type": "stream"
    }
   ],
   "source": [
    "print(\"MultinomialNB Accuracy:\", metrics.accuracy_score(dtm_y_test, dtm_predictions))"
   ],
   "metadata": {
    "collapsed": false,
    "pycharm": {
     "name": "#%%\n",
     "is_executing": false
    }
   }
  },
  {
   "cell_type": "markdown",
   "source": [
    "## Conclusion\n",
    "It appears as though there is a marginal improvement to distribution, key, morphology and taxon identification strings \n",
    "with FM data, but a slight decline in habitat accuracy."
   ],
   "metadata": {
    "collapsed": false,
    "pycharm": {
     "name": "#%% md\n"
    }
   }
  }
 ],
 "metadata": {
  "kernelspec": {
   "display_name": "Python 3",
   "language": "python",
   "name": "python3"
  },
  "language_info": {
   "codemirror_mode": {
    "name": "ipython",
    "version": 2
   },
   "file_extension": ".py",
   "mimetype": "text/x-python",
   "name": "python",
   "nbconvert_exporter": "python",
   "pygments_lexer": "ipython2",
   "version": "2.7.6"
  },
  "pycharm": {
   "stem_cell": {
    "cell_type": "raw",
    "source": [],
    "metadata": {
     "collapsed": false
    }
   }
  }
 },
 "nbformat": 4,
 "nbformat_minor": 0
}