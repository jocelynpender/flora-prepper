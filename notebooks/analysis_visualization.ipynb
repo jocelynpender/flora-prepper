{
 "cells": [
  {
   "cell_type": "markdown",
   "metadata": {},
   "source": [
    "# Flora Prepper Model Evaluation\n",
    "## Initialize the environment"
   ]
  },
  {
   "cell_type": "code",
   "execution_count": 1,
   "metadata": {
    "pycharm": {
     "is_executing": false,
     "name": "#%%\n"
    }
   },
   "outputs": [],
   "source": [
    "import os\n",
    "import sys\n",
    "\n",
    "module_path = os.path.abspath(os.path.join('../'))\n",
    "if module_path not in sys.path:\n",
    "    sys.path.append(module_path)\n",
    "\n",
    "from src.data.make_fna import *\n",
    "from src.data.make_bc import *\n",
    "from src.data.make_budds import *\n",
    "from src.models.run_model import *\n",
    "from src.visualization.visualize import *\n",
    "from nltk import word_tokenize\n",
    "from nltk.corpus import stopwords\n",
    "from sklearn.feature_extraction.text import CountVectorizer, TfidfVectorizer\n",
    "from sklearn.model_selection import train_test_split"
   ]
  },
  {
   "cell_type": "markdown",
   "metadata": {
    "pycharm": {
     "name": "#%% md\n"
    }
   },
   "source": [
    "## Import the data"
   ]
  },
  {
   "cell_type": "code",
   "execution_count": 2,
   "metadata": {
    "pycharm": {
     "is_executing": false,
     "name": "#%% \n"
    }
   },
   "outputs": [
    {
     "name": "stderr",
     "output_type": "stream",
     "text": [
      "/Users/jocelynpender/miniconda3/envs/flora-prepper/lib/python3.7/site-packages/ipykernel_launcher.py:7: FutureWarning: Sorting because non-concatenation axis is not aligned. A future version\n",
      "of pandas will change to not sort by default.\n",
      "\n",
      "To accept the future behavior, pass 'sort=False'.\n",
      "\n",
      "To retain the current behavior and silence the warning, pass 'sort=True'.\n",
      "\n",
      "  import sys\n"
     ]
    }
   ],
   "source": [
    "fna = make_fna_data_frame(fna_filepath=\"../data/external/fna_keys.csv\", frac_to_sample=0.1, balance_categories=True,\n",
    "                          categories_to_keep=[\"key\", \"morphology\", \"taxon_identification\", \"distribution\"])\n",
    "bc = make_bc_data_frame(bc_filepath=\"../data/external/eflora-bc-partial.csv\",\n",
    "                        frac_to_sample=0.15, balance_categories=True)\n",
    "budds = make_budds_data_frame(budds_file_path=\"../data/external/buddsfloraofcana00otta_djvu.xml\", frac_to_sample=1,\n",
    "                              balance_categories=True)\n",
    "flora_data_frame = pd.concat([fna, bc, budds], keys=['fna', 'bc', 'budds'], names=['Dataset name', 'Row ID'])"
   ]
  },
  {
   "cell_type": "markdown",
   "metadata": {},
   "source": [
    "## Visualize the data\n",
    "### Visualize counts of training datasets"
   ]
  },
  {
   "cell_type": "code",
   "execution_count": 3,
   "metadata": {
    "pycharm": {
     "is_executing": false,
     "name": "#%%\n"
    }
   },
   "outputs": [
    {
     "data": {
      "image/png": "[encoded data removed]",
      "text/plain": [
       "<Figure size 432x288 with 1 Axes>"
      ]
     },
     "metadata": {
      "needs_background": "light"
     },
     "output_type": "display_data"
    }
   ],
   "source": [
    "flora_data_frame = flora_data_frame.reset_index()\n",
    "flora_data_frame['Dataset name'].value_counts().plot.bar()\n",
    "plt.show()"
   ]
  },
  {
   "cell_type": "code",
   "execution_count": 34,
   "metadata": {},
   "outputs": [
    {
     "data": {
      "text/plain": [
       "<matplotlib.axes._subplots.AxesSubplot at 0x1a29153ed0>"
      ]
     },
     "execution_count": 34,
     "metadata": {},
     "output_type": "execute_result"
    },
    {
     "data": {
      "image/png": "[encoded data removed]",
      "text/plain": [
       "<Figure size 432x288 with 1 Axes>"
      ]
     },
     "metadata": {
      "needs_background": "light"
     },
     "output_type": "display_data"
    }
   ],
   "source": [
    "flora_data_frame[['classification', 'Dataset name', 'text']].groupby(['classification', 'Dataset name']).count().plot.bar()\n"
   ]
  },
  {
   "cell_type": "markdown",
   "metadata": {},
   "source": [
    "### View a word cloud for all text data \n",
    "Text is processed using the same custom (bare-bones) tokenizer and stopwords used to train the model. \n"
   ]
  },
  {
   "cell_type": "code",
   "execution_count": null,
   "metadata": {
    "pycharm": {
     "is_executing": false,
     "name": "#%%\n"
    }
   },
   "outputs": [],
   "source": [
    "tokenized_stop_words = prepare_stop_words(custom_stop_words=[\"unknown\", \"accepted\", \"synonym\",\n",
    "                                                             \"basionym\", \"source\",\n",
    "                                                             \"note\", \"notes\"])  # Find a way to keep numbers and elipses!\n",
    "text = \" \".join(text_string for text_string in flora_data_frame.text)\n",
    "visualize_words(text, tokenized_stop_words)"
   ]
  },
  {
   "cell_type": "markdown",
   "metadata": {},
   "source": [
    "### Generate word clouds by classification.\n",
    "Are there any noticeable differences between the words used most frequently between the classifications?"
   ]
  },
  {
   "cell_type": "code",
   "execution_count": null,
   "metadata": {
    "pycharm": {
     "is_executing": false,
     "name": "#%%\n"
    }
   },
   "outputs": [],
   "source": [
    "taxon_identification = \" \".join(text_string for text_string in flora_data_frame[flora_data_frame.classification == \"taxon_identification\"].text)\n",
    "morphology = \" \".join(text_string for text_string in flora_data_frame[flora_data_frame.classification == \"morphology\"].text)\n",
    "key = \" \".join(text_string for text_string in flora_data_frame[flora_data_frame.classification == \"key\"].text)\n",
    "habitat = \" \".join(text_string for text_string in flora_data_frame[flora_data_frame.classification == \"habitat\"].text)"
   ]
  },
  {
   "cell_type": "markdown",
   "metadata": {},
   "source": [
    "Taxon identification"
   ]
  },
  {
   "cell_type": "code",
   "execution_count": null,
   "metadata": {
    "pycharm": {
     "is_executing": false,
     "name": "#%%\n"
    }
   },
   "outputs": [],
   "source": [
    "visualize_words(taxon_identification, tokenized_stop_words)"
   ]
  },
  {
   "cell_type": "markdown",
   "metadata": {},
   "source": [
    "Morphology"
   ]
  },
  {
   "cell_type": "code",
   "execution_count": null,
   "metadata": {
    "pycharm": {
     "is_executing": false,
     "name": "#%%\n"
    }
   },
   "outputs": [],
   "source": [
    "visualize_words(morphology, tokenized_stop_words)"
   ]
  },
  {
   "cell_type": "markdown",
   "metadata": {},
   "source": [
    "Keys"
   ]
  },
  {
   "cell_type": "code",
   "execution_count": null,
   "metadata": {
    "pycharm": {
     "is_executing": false,
     "name": "#%%\n"
    }
   },
   "outputs": [],
   "source": [
    "visualize_words(key, tokenized_stop_words)"
   ]
  },
  {
   "cell_type": "markdown",
   "metadata": {},
   "source": [
    "Habitat"
   ]
  },
  {
   "cell_type": "code",
   "execution_count": null,
   "metadata": {
    "pycharm": {
     "is_executing": false,
     "name": "#%%\n"
    }
   },
   "outputs": [],
   "source": [
    "visualize_words(habitat, tokenized_stop_words)\n"
   ]
  },
  {
   "cell_type": "markdown",
   "metadata": {},
   "source": [
    "### Word clouds by flora source\n",
    "Are there differences between training sets in the most commonly used words?"
   ]
  },
  {
   "cell_type": "code",
   "execution_count": null,
   "metadata": {
    "pycharm": {
     "is_executing": false,
     "name": "#%%\n"
    }
   },
   "outputs": [],
   "source": [
    "bc_text = \" \".join(text_string for text_string in bc.text if text_string not in tokenized_stop_words)\n",
    "budds_text = \" \".join(text_string for text_string in budds.text if text_string not in tokenized_stop_words)\n",
    "fna_text = \" \".join(text_string for text_string in fna.text if text_string not in tokenized_stop_words)\n"
   ]
  },
  {
   "cell_type": "markdown",
   "metadata": {},
   "source": [
    "BC"
   ]
  },
  {
   "cell_type": "code",
   "execution_count": null,
   "metadata": {
    "pycharm": {
     "is_executing": false,
     "name": "#%%\n"
    }
   },
   "outputs": [],
   "source": [
    "visualize_words(bc_text, tokenized_stop_words)"
   ]
  },
  {
   "cell_type": "markdown",
   "metadata": {},
   "source": [
    "FNA"
   ]
  },
  {
   "cell_type": "code",
   "execution_count": null,
   "metadata": {
    "pycharm": {
     "is_executing": false,
     "name": "#%%\n"
    }
   },
   "outputs": [],
   "source": [
    "visualize_words(fna_text, tokenized_stop_words)"
   ]
  },
  {
   "cell_type": "markdown",
   "metadata": {},
   "source": [
    "Budds"
   ]
  },
  {
   "cell_type": "code",
   "execution_count": null,
   "metadata": {
    "pycharm": {
     "is_executing": false,
     "name": "#%%\n"
    }
   },
   "outputs": [],
   "source": [
    "visualize_words(budds_text, tokenized_stop_words)\n"
   ]
  },
  {
   "cell_type": "markdown",
   "metadata": {},
   "source": [
    "### What happens to the key and morphology classifications if we implement stricter word tokenization?\n",
    "\n",
    "Key"
   ]
  },
  {
   "cell_type": "code",
   "execution_count": null,
   "metadata": {
    "pycharm": {
     "is_executing": false,
     "name": "#%%\n"
    }
   },
   "outputs": [],
   "source": [
    "word_cloud_key = WordCloud(stopwords=tokenized_stop_words, \n",
    "                      background_color=\"white\", collocations=False).process_text(key)\n",
    "fdist_key = FreqDist(word_cloud_key)\n",
    "fdist_key.plot(30,cumulative=False)\n",
    "plt.show()"
   ]
  },
  {
   "cell_type": "markdown",
   "metadata": {
    "pycharm": {
     "name": "#%% md\n"
    }
   },
   "source": [
    "Morphology"
   ]
  },
  {
   "cell_type": "code",
   "execution_count": null,
   "metadata": {
    "pycharm": {
     "is_executing": false,
     "name": "#%%\n"
    }
   },
   "outputs": [],
   "source": [
    "word_cloud_morphology = WordCloud(stopwords=tokenized_stop_words, \n",
    "                      background_color=\"white\", collocations=False).process_text(morphology)\n",
    "fdist_morphology = FreqDist(word_cloud_morphology)\n",
    "fdist_morphology.plot(30,cumulative=False)\n",
    "plt.show()"
   ]
  },
  {
   "cell_type": "markdown",
   "metadata": {
    "pycharm": {
     "name": "#%% md\n"
    }
   },
   "source": [
    "### Visualize distinctive words using tf-idf\n"
   ]
  },
  {
   "cell_type": "code",
   "execution_count": null,
   "metadata": {
    "pycharm": {
     "is_executing": false,
     "name": "#%%\n"
    }
   },
   "outputs": [],
   "source": [
    "custom_vec = TfidfVectorizer(lowercase=True, tokenizer=flora_tokenizer, stop_words=tokenized_stop_words, ngram_range=(1, 1))\n",
    "text_counts = custom_vec.fit_transform(flora_data_frame['text'])  # Build TF-IDF Matrix\n",
    "\n",
    "scores = zip(custom_vec.get_feature_names(), np.asarray(text_counts.sum(axis=0)).ravel())\n",
    "sorted_scores = sorted(scores, key=lambda x: x[1], reverse=True)\n",
    "#for item in sorted_scores:\n",
    " #   print(\"{0:10} Score: {1}\".format(item[0], item[1]))\n",
    "    \n",
    "sorted_scores_df = pd.DataFrame(sorted_scores, columns=['word', 'score']).iloc[:50]\n",
    "sorted_scores_df.plot.bar(x='word', y='score')\n",
    "plt.show()"
   ]
  },
  {
   "cell_type": "markdown",
   "metadata": {
    "pycharm": {
     "name": "#%% md\n"
    }
   },
   "source": [
    "## Run a DTM based model and a TFIDF based model and review accuracy"
   ]
  },
  {
   "cell_type": "code",
   "execution_count": null,
   "metadata": {
    "pycharm": {
     "is_executing": false,
     "name": "#%%\n"
    }
   },
   "outputs": [],
   "source": [
    "# ==== DTM =====\n",
    "dtm_text_counts = build_dtm_text_counts(flora_tokenizer, tokenized_stop_words, flora_data_frame)\n",
    "X_test, predictions = run_model(dtm_text_counts, flora_data_frame)\n",
    "\n",
    "# ==== TFIDF =====\n",
    "tfidf_text_counts = build_tfidf_text_counts(flora_tokenizer, tokenized_stop_words, flora_data_frame)\n",
    "X_test, predictions = run_model(tfidf_text_counts, flora_data_frame)\n"
   ]
  },
  {
   "cell_type": "markdown",
   "metadata": {
    "pycharm": {
     "name": "#%% md\n"
    }
   },
   "source": [
    "#### View incorrectly classified statements"
   ]
  },
  {
   "cell_type": "code",
   "execution_count": null,
   "metadata": {
    "pycharm": {
     "is_executing": false,
     "name": "#%%\n"
    }
   },
   "outputs": [],
   "source": [
    "results = zip(X_test, predictions)\n",
    "print(tuple(results))"
   ]
  },
  {
   "cell_type": "code",
   "execution_count": null,
   "metadata": {
    "pycharm": {
     "name": "#%%\n"
    }
   },
   "outputs": [],
   "source": [
    "# Currently not working\n",
    "\n",
    "#for item, labels in zip(X_test, predictions):\n",
    " #   print('%s => %s' % (item, ', '.join(flora_data_frame.classification[x] for x in labels)))"
   ]
  },
  {
   "cell_type": "markdown",
   "metadata": {
    "pycharm": {
     "name": "#%% md\n"
    }
   },
   "source": [
    "## Run a model based on text length"
   ]
  },
  {
   "cell_type": "code",
   "execution_count": null,
   "metadata": {
    "pycharm": {
     "is_executing": false,
     "name": "#%%\n"
    }
   },
   "outputs": [],
   "source": [
    "# Process text, remove stopwords. Remove empty cells.\n",
    "length_processed_flora_data_frame = process_length_in_place(flora_data_frame, tokenized_stop_words)\n",
    "\n",
    "\n",
    "plot = length_processed_flora_data_frame['length'].hist(by=length_processed_flora_data_frame['classification'])\n",
    "plt.show()"
   ]
  },
  {
   "cell_type": "markdown",
   "metadata": {
    "pycharm": {
     "name": "#%% md\n"
    }
   },
   "source": [
    "It looks like discussion should be removed from the dataset. It is curiously short in length. This may be an artifact from the bc dataset."
   ]
  },
  {
   "cell_type": "code",
   "execution_count": null,
   "metadata": {
    "pycharm": {
     "is_executing": true,
     "name": "#%%\n"
    }
   },
   "outputs": [],
   "source": [
    "\n",
    "X_test, predicted = run_model(length_model_sparse, length_processed_flora_data_frame)"
   ]
  },
  {
   "cell_type": "code",
   "execution_count": null,
   "metadata": {
    "pycharm": {
     "is_executing": false,
     "name": "#%%\n"
    }
   },
   "outputs": [],
   "source": [
    "#fig,ax = plt.subplots(figsize=(5,5))\n",
    "#plt.boxplot(df_train_1.phrase_len)\n",
    "#plt.show()\n"
   ]
  },
  {
   "cell_type": "markdown",
   "metadata": {
    "pycharm": {
     "is_executing": false,
     "name": "#%% md\n"
    }
   },
   "source": [
    "To do plots:\n",
    "classification coloured by source"
   ]
  }
 ],
 "metadata": {
  "kernelspec": {
   "display_name": "Python 3",
   "language": "python",
   "name": "python3"
  },
  "language_info": {
   "codemirror_mode": {
    "name": "ipython",
    "version": 3
   },
   "file_extension": ".py",
   "mimetype": "text/x-python",
   "name": "python",
   "nbconvert_exporter": "python",
   "pygments_lexer": "ipython3",
   "version": "3.7.4"
  },
  "pycharm": {
   "stem_cell": {
    "cell_type": "raw",
    "metadata": {
     "collapsed": false
    },
    "source": []
   }
  }
 },
 "nbformat": 4,
 "nbformat_minor": 1
}
