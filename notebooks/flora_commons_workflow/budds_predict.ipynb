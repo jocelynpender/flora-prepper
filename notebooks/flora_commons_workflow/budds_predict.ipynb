{
 "cells": [
  {
   "cell_type": "markdown",
   "metadata": {},
   "source": [
    "# Predicting Budds text and reformatting its schema for CharaParser\n",
    "## Workflow steps:\n",
    "\n",
    "* Import text file by reading the lines\n",
    "* Push the lines into the model pipeline\n",
    "* add the classifications as XML nodes\n",
    "* reformat to input schema"
   ]
  },
  {
   "cell_type": "code",
   "execution_count": 64,
   "metadata": {},
   "outputs": [
    {
     "name": "stdout",
     "output_type": "stream",
     "text": [
      "The autoreload extension is already loaded. To reload it, use:\n",
      "  %reload_ext autoreload\n",
      "['/Users/jocelynpender/flora-prepper/notebooks/flora_commons_workflow', '/Users/jocelynpender/miniconda3/envs/flora-prepper/lib/python37.zip', '/Users/jocelynpender/miniconda3/envs/flora-prepper/lib/python3.7', '/Users/jocelynpender/miniconda3/envs/flora-prepper/lib/python3.7/lib-dynload', '', '/Users/jocelynpender/.local/lib/python3.7/site-packages', '/Users/jocelynpender/miniconda3/envs/flora-prepper/lib/python3.7/site-packages', '/Users/jocelynpender/miniconda3/envs/flora-prepper/lib/python3.7/site-packages/IPython/extensions', '/Users/jocelynpender/.ipython', '/Users/jocelynpender/flora-prepper/src', '/Users/jocelynpender/flora-prepper', '/Users/jocelynpender/flora-prepper', '/Users/jocelynpender/flora-prepper']\n"
     ]
    }
   ],
   "source": [
    "# Auto update of packages within the notebook\n",
    "%load_ext autoreload\n",
    "%autoreload 2\n",
    "\n",
    "import os\n",
    "import sys\n",
    "\n",
    "# Import custom modelling code\n",
    "module_path = os.path.abspath(os.path.join('../../'))\n",
    "if module_path not in sys.path:\n",
    "    sys.path.append(module_path)\n",
    "\n",
    "from src.predict_model import *\n",
    "from src.features.build_length_features import locate_empty_strings"
   ]
  },
  {
   "cell_type": "markdown",
   "metadata": {},
   "source": [
    "## Importing Budd's text"
   ]
  },
  {
   "cell_type": "code",
   "execution_count": 13,
   "metadata": {},
   "outputs": [],
   "source": [
    "budds_file_name = \"/Users/jocelynpender/flora-prepper-proj/data/external/texts/budds_testing.txt\"\n",
    "budds_lines = open(budds_file_name).read().splitlines()"
   ]
  },
  {
   "cell_type": "code",
   "execution_count": null,
   "metadata": {},
   "outputs": [],
   "source": [
    "# if two key tags occur right after one another, merge the key tags into one key tag"
   ]
  },
  {
   "cell_type": "markdown",
   "metadata": {},
   "source": [
    "## Import the vectorizer and create Budd's DTM"
   ]
  },
  {
   "cell_type": "code",
   "execution_count": 20,
   "metadata": {},
   "outputs": [],
   "source": [
    "custom_vec = joblib.load(\"../../models/custom_vec\") # load the DTM vectorizer\n",
    "test_dtm = custom_vec.transform(budds_lines) # fit the DTM to the new data"
   ]
  },
  {
   "cell_type": "markdown",
   "metadata": {},
   "source": [
    "## Import the classifier and generate predictions"
   ]
  },
  {
   "cell_type": "code",
   "execution_count": 22,
   "metadata": {},
   "outputs": [],
   "source": [
    "# load the model and generate predictions\n",
    "clf = joblib.load(\"../../models/classifier_model\") # load the classifier\n",
    "predicted = clf.predict(test_dtm) # predict the classification based on the DTM and the model\n",
    "dtm_predictions_series = pd.Series(predicted)"
   ]
  },
  {
   "cell_type": "markdown",
   "metadata": {},
   "source": [
    "## Reformat the results for easy viewing"
   ]
  },
  {
   "cell_type": "code",
   "execution_count": 37,
   "metadata": {},
   "outputs": [
    {
     "data": {
      "text/html": [
       "<div>\n",
       "<style scoped>\n",
       "    .dataframe tbody tr th:only-of-type {\n",
       "        vertical-align: middle;\n",
       "    }\n",
       "\n",
       "    .dataframe tbody tr th {\n",
       "        vertical-align: top;\n",
       "    }\n",
       "\n",
       "    .dataframe thead th {\n",
       "        text-align: right;\n",
       "    }\n",
       "</style>\n",
       "<table border=\"1\" class=\"dataframe\">\n",
       "  <thead>\n",
       "    <tr style=\"text-align: right;\">\n",
       "      <th></th>\n",
       "      <th>0</th>\n",
       "      <th>1</th>\n",
       "    </tr>\n",
       "  </thead>\n",
       "  <tbody>\n",
       "    <tr>\n",
       "      <td>0</td>\n",
       "      <td>Keys to main groups</td>\n",
       "      <td>key</td>\n",
       "    </tr>\n",
       "    <tr>\n",
       "      <td>1</td>\n",
       "      <td>Key to Divisions, Subdivisions, and Classes</td>\n",
       "      <td>key</td>\n",
       "    </tr>\n",
       "    <tr>\n",
       "      <td>2</td>\n",
       "      <td></td>\n",
       "      <td>morphology</td>\n",
       "    </tr>\n",
       "    <tr>\n",
       "      <td>3</td>\n",
       "      <td>1. Plants without true flowers, reproducing</td>\n",
       "      <td>key</td>\n",
       "    </tr>\n",
       "    <tr>\n",
       "      <td>4</td>\n",
       "      <td>by spores</td>\n",
       "      <td>morphology</td>\n",
       "    </tr>\n",
       "    <tr>\n",
       "      <td>...</td>\n",
       "      <td>...</td>\n",
       "      <td>...</td>\n",
       "    </tr>\n",
       "    <tr>\n",
       "      <td>29680</td>\n",
       "      <td>3 ^073 0005Zb23 fl DATE DUE DEC</td>\n",
       "      <td>taxon_identification</td>\n",
       "    </tr>\n",
       "    <tr>\n",
       "      <td>29681</td>\n",
       "      <td></td>\n",
       "      <td>morphology</td>\n",
       "    </tr>\n",
       "    <tr>\n",
       "      <td>29682</td>\n",
       "      <td>\\ k ?(M»7 GAYLORO</td>\n",
       "      <td>taxon_identification</td>\n",
       "    </tr>\n",
       "    <tr>\n",
       "      <td>29683</td>\n",
       "      <td>PfllNKD IN USA.</td>\n",
       "      <td>habitat</td>\n",
       "    </tr>\n",
       "    <tr>\n",
       "      <td>29684</td>\n",
       "      <td></td>\n",
       "      <td>morphology</td>\n",
       "    </tr>\n",
       "  </tbody>\n",
       "</table>\n",
       "<p>29685 rows × 2 columns</p>\n",
       "</div>"
      ],
      "text/plain": [
       "                                                  0                     1\n",
       "0                              Keys to main groups                    key\n",
       "1      Key to Divisions, Subdivisions, and Classes                    key\n",
       "2                                                              morphology\n",
       "3      1. Plants without true flowers, reproducing                    key\n",
       "4                                        by spores             morphology\n",
       "...                                             ...                   ...\n",
       "29680              3 ^073 0005Zb23 fl DATE DUE DEC   taxon_identification\n",
       "29681                                                          morphology\n",
       "29682                            \\ k ?(M»7 GAYLORO   taxon_identification\n",
       "29683                              PfllNKD IN USA.                habitat\n",
       "29684                                                          morphology\n",
       "\n",
       "[29685 rows x 2 columns]"
      ]
     },
     "execution_count": 37,
     "metadata": {},
     "output_type": "execute_result"
    }
   ],
   "source": [
    "budds_lines = pd.Series(budds_lines)\n",
    "budds_results = pd.concat([budds_lines, dtm_predictions_series], axis=1)\n",
    "budds_results = budds_results[locate_empty_strings(budds_results[0])] # Remove rows with empty strings as text\n",
    "budds_results.to_csv(path_or_buf=\"budds_results_to_examine.csv\")\n",
    "budds_results"
   ]
  }
 ],
 "metadata": {
  "kernelspec": {
   "display_name": "Python 3",
   "language": "python",
   "name": "python3"
  },
  "language_info": {
   "codemirror_mode": {
    "name": "ipython",
    "version": 3
   },
   "file_extension": ".py",
   "mimetype": "text/x-python",
   "name": "python",
   "nbconvert_exporter": "python",
   "pygments_lexer": "ipython3",
   "version": "3.7.4"
  }
 },
 "nbformat": 4,
 "nbformat_minor": 2
}
