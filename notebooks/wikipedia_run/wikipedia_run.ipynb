{
 "cells": [
  {
   "cell_type": "code",
   "execution_count": 1,
   "metadata": {},
   "outputs": [
    {
     "name": "stderr",
     "output_type": "stream",
     "text": [
      "[nltk_data] Downloading package wordnet to\n",
      "[nltk_data]     /Users/jocelynpender/nltk_data...\n",
      "[nltk_data]   Package wordnet is already up-to-date!\n"
     ]
    }
   ],
   "source": [
    "# Auto update of packages within the notebook\n",
    "%load_ext autoreload\n",
    "%autoreload 2\n",
    "\n",
    "# Packages required for model building and analysis\n",
    "import os\n",
    "import sys\n",
    "import numpy as np\n",
    "import pandas as pd\n",
    "import wikipedia\n",
    "\n",
    "# Import custom modelling code\n",
    "module_path = os.path.abspath(os.path.join('../../'))\n",
    "if module_path not in sys.path:\n",
    "    sys.path.append(module_path)\n",
    "\n",
    "from src.models.run_model import *\n",
    "from src.visualization.visualize import *\n",
    "import src.features as features\n",
    "from src.data.make_wikipedia import *\n",
    "\n",
    "# pip install git+https://github.com/lucasdnd/Wikipedia.git --upgrade\n"
   ]
  },
  {
   "cell_type": "code",
   "execution_count": 2,
   "metadata": {},
   "outputs": [],
   "source": [
    "# Import model training data\n",
    "flora_data_frame = pd.read_csv(\"../../data/processed/flora_data_frame_full.csv\", index_col=0)\n",
    "train_indices = list(range(0, flora_data_frame.shape[0]))"
   ]
  },
  {
   "cell_type": "code",
   "execution_count": 3,
   "metadata": {},
   "outputs": [
    {
     "name": "stderr",
     "output_type": "stream",
     "text": [
      "/Users/jocelynpender/miniconda3/envs/flora-prepper/lib/python3.7/site-packages/ipykernel_launcher.py:4: FutureWarning: Sorting because non-concatenation axis is not aligned. A future version\n",
      "of pandas will change to not sort by default.\n",
      "\n",
      "To accept the future behavior, pass 'sort=False'.\n",
      "\n",
      "To retain the current behavior and silence the warning, pass 'sort=True'.\n",
      "\n",
      "  after removing the cwd from sys.path.\n",
      "/Users/jocelynpender/miniconda3/envs/flora-prepper/lib/python3.7/site-packages/ipykernel_launcher.py:7: SettingWithCopyWarning: \n",
      "A value is trying to be set on a copy of a slice from a DataFrame\n",
      "\n",
      "See the caveats in the documentation: http://pandas.pydata.org/pandas-docs/stable/user_guide/indexing.html#returning-a-view-versus-a-copy\n",
      "  import sys\n"
     ]
    }
   ],
   "source": [
    "# Import of Wikipedia dataset\n",
    "wiki = pd.read_csv(\"../../data/processed/combined_wikidata.csv\", index_col=None)\n",
    "test_indices = list(range(flora_data_frame.shape[0] + 1, flora_data_frame.shape[0] + wiki.shape[0]))\n",
    "flora_data_frame = pd.concat([flora_data_frame, wiki], ignore_index=True)\n",
    "\n",
    "# Get rid of key classification\n",
    "flora_data_frame.classification[flora_data_frame.classification == \"key\"] = \"morphology\"\n"
   ]
  },
  {
   "cell_type": "code",
   "execution_count": 4,
   "metadata": {},
   "outputs": [
    {
     "name": "stderr",
     "output_type": "stream",
     "text": [
      "[nltk_data] Downloading package stopwords to\n",
      "[nltk_data]     /Users/jocelynpender/nltk_data...\n",
      "[nltk_data]   Package stopwords is already up-to-date!\n"
     ]
    },
    {
     "data": {
      "text/plain": [
       "array([[0, 0, 0, ..., 0, 0, 0],\n",
       "       [0, 0, 0, ..., 0, 0, 0],\n",
       "       [0, 0, 0, ..., 0, 0, 0],\n",
       "       ...,\n",
       "       [0, 0, 0, ..., 0, 0, 0],\n",
       "       [0, 0, 0, ..., 0, 0, 0],\n",
       "       [0, 0, 0, ..., 0, 0, 0]])"
      ]
     },
     "execution_count": 4,
     "metadata": {},
     "output_type": "execute_result"
    }
   ],
   "source": [
    "# Customize stop words for model\n",
    "tokenized_stop_words = features.prepare_stop_words(custom_stop_words=[\"unknown\", \"accepted\", \"synonym\",\n",
    "                                                             \"basionym\", \"source\",\n",
    "                                                             \"note\", \"notes\", \"morphology\", \"fna_id\"])\n",
    "# Build DTM\n",
    "custom_vec, dtm_text_counts = build_dtm_text_counts(features.flora_tokenizer, tokenized_stop_words, flora_data_frame)\n",
    "dtm_text_counts.toarray()"
   ]
  },
  {
   "cell_type": "code",
   "execution_count": 5,
   "metadata": {
    "scrolled": true
   },
   "outputs": [],
   "source": [
    "# Prepare data for the model\n",
    "X_train = dtm_text_counts[train_indices]\n",
    "y_train = flora_data_frame.iloc[train_indices].classification\n",
    "X_test = dtm_text_counts[test_indices]\n",
    "y_test = flora_data_frame.iloc[test_indices].classification"
   ]
  },
  {
   "cell_type": "code",
   "execution_count": 7,
   "metadata": {},
   "outputs": [],
   "source": [
    "clf = MultinomialNB().fit(X_train, y_train)\n",
    "predicted = clf.predict(X_test)\n",
    "dtm_y_test_df = pd.DataFrame(y_test).reset_index()\n",
    "dtm_predictions_series = pd.Series(predicted)\n",
    "results = pd.concat([dtm_y_test_df, dtm_predictions_series], axis=1)\n",
    "results.rename(columns={0: 'predictions'}, inplace=True)\n",
    "results = results.set_index('index')\n",
    "results_flora_data_frame = pd.concat([results, flora_data_frame], axis=1, join='inner')\n",
    "results_flora_data_frame.to_csv(path_or_buf = \"../../reports/csv/wikidata_results.csv\")"
   ]
  },
  {
   "cell_type": "code",
   "execution_count": null,
   "metadata": {},
   "outputs": [],
   "source": []
  }
 ],
 "metadata": {
  "kernelspec": {
   "display_name": "Python 3",
   "language": "python",
   "name": "python3"
  },
  "language_info": {
   "codemirror_mode": {
    "name": "ipython",
    "version": 3
   },
   "file_extension": ".py",
   "mimetype": "text/x-python",
   "name": "python",
   "nbconvert_exporter": "python",
   "pygments_lexer": "ipython3",
   "version": "3.7.4"
  }
 },
 "nbformat": 4,
 "nbformat_minor": 2
}
